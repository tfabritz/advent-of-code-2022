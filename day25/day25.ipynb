{
 "cells": [
  {
   "cell_type": "code",
   "execution_count": null,
   "metadata": {},
   "outputs": [],
   "source": [
    "from functools import reduce"
   ]
  },
  {
   "cell_type": "code",
   "execution_count": null,
   "metadata": {},
   "outputs": [],
   "source": [
    "with open(\"input.txt\") as f:\n",
    "    lines = f.readlines()\n",
    "lines = [l.strip() for l in lines]\n",
    "lines[:5]"
   ]
  },
  {
   "cell_type": "code",
   "execution_count": null,
   "metadata": {},
   "outputs": [],
   "source": [
    "def snafu_to_decimal(snafu):\n",
    "    snafu = reversed(snafu)\n",
    "    digit_val = 0\n",
    "    res = 0\n",
    "    for d in snafu:\n",
    "        base = 5**digit_val\n",
    "        if d == \"=\":\n",
    "            res += -2 * base\n",
    "        elif d == \"-\":\n",
    "            res += -1 * base\n",
    "        else:\n",
    "            res += int(d) * base\n",
    "        digit_val += 1\n",
    "    return res\n",
    "\n",
    "\n",
    "snafu_to_decimal(\"2=-01\")"
   ]
  },
  {
   "cell_type": "code",
   "execution_count": null,
   "metadata": {},
   "outputs": [],
   "source": [
    "sum([snafu_to_decimal(l) for l in lines])"
   ]
  },
  {
   "cell_type": "code",
   "execution_count": null,
   "metadata": {},
   "outputs": [],
   "source": [
    "def decimal_to_snafu(decimal):\n",
    "    digits = [\"=\", \"-\", \"0\", \"1\", \"2\"]\n",
    "    snafu = \"\"\n",
    "    while decimal > 0:\n",
    "        decimal += 2\n",
    "        mod = decimal % 5\n",
    "        snafu += digits[mod]\n",
    "        decimal //= 5\n",
    "    return \"\".join(reversed(snafu))\n",
    "\n",
    "\n",
    "decimal_to_snafu(976)"
   ]
  },
  {
   "cell_type": "code",
   "execution_count": null,
   "metadata": {},
   "outputs": [],
   "source": [
    "decimal_to_snafu(sum([snafu_to_decimal(l) for l in lines]))"
   ]
  },
  {
   "cell_type": "code",
   "execution_count": null,
   "metadata": {},
   "outputs": [],
   "source": [
    "def add_snafu(snafu1: str, snafu2: str) -> str:\n",
    "    # print(snafu1, snafu2)\n",
    "    val_map = {\"=\": -2, \"-\": -1, \"0\": 0, \"1\": 1, \"2\": 2}\n",
    "    val_map_rev = {v: k for k, v in val_map.items()}\n",
    "\n",
    "    max_len = max(len(snafu1), len(snafu2))\n",
    "\n",
    "    snafu1 = \"\".join(reversed(snafu1))\n",
    "    snafu2 = \"\".join(reversed(snafu2))\n",
    "\n",
    "    carry = 0\n",
    "    snafu_res = \"\"\n",
    "\n",
    "    for i in range(0, max_len):\n",
    "        if i >= len(snafu1):\n",
    "            snafu1 += \"0\"\n",
    "\n",
    "        if i >= len(snafu2):\n",
    "            snafu2 += \"0\"\n",
    "\n",
    "        curr_val = carry + val_map[snafu1[i]] + val_map[snafu2[i]]\n",
    "        carry = 0\n",
    "        if curr_val == 5:\n",
    "            carry = 1\n",
    "            snafu_res += \"0\"\n",
    "        elif curr_val == 4:\n",
    "            carry = 1\n",
    "            snafu_res += \"-\"\n",
    "        elif curr_val == 3:\n",
    "            carry = 1\n",
    "            snafu_res += \"=\"\n",
    "        elif curr_val == -5:\n",
    "            carry = -1\n",
    "            snafu_res += \"0\"\n",
    "        elif curr_val == -4:\n",
    "            carry = -1\n",
    "            snafu_res += \"1\"\n",
    "        elif curr_val == -3:\n",
    "            carry = -1\n",
    "            snafu_res += \"2\"\n",
    "        else:\n",
    "            snafu_res += val_map_rev[curr_val]\n",
    "        # print(curr_val, carry)\n",
    "\n",
    "    if carry > 0:\n",
    "        snafu_res += val_map_rev[carry]\n",
    "\n",
    "    return \"\".join(reversed(snafu_res))\n",
    "\n",
    "\n",
    "assert add_snafu(\"1222\", \"2==\") == decimal_to_snafu(\n",
    "    snafu_to_decimal(\"1222\") + snafu_to_decimal(\"2==\")\n",
    ")"
   ]
  },
  {
   "cell_type": "code",
   "execution_count": null,
   "metadata": {},
   "outputs": [],
   "source": [
    "snafu = reduce(add_snafu, lines)\n",
    "print(snafu)"
   ]
  }
 ],
 "metadata": {
  "kernelspec": {
   "display_name": "aoc",
   "language": "python",
   "name": "python3"
  },
  "language_info": {
   "codemirror_mode": {
    "name": "ipython",
    "version": 3
   },
   "file_extension": ".py",
   "mimetype": "text/x-python",
   "name": "python",
   "nbconvert_exporter": "python",
   "pygments_lexer": "ipython3",
   "version": "3.11.5"
  }
 },
 "nbformat": 4,
 "nbformat_minor": 2
}
